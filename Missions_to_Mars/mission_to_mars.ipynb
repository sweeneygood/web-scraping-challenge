{
 "cells": [
  {
   "cell_type": "code",
   "execution_count": null,
   "id": "ac1fb146",
   "metadata": {},
   "outputs": [],
   "source": [
    "# Dependencies\n",
    "from bs4 import BeautifulSoup\n",
    "import requests\n",
    "import pymongo\n",
    "import pandas as pd\n",
    "from splinter import Browser\n",
    "from webdriver_manager.chrome import ChromeDriverManager"
   ]
  },
  {
   "cell_type": "markdown",
   "id": "bc9b9ddf",
   "metadata": {},
   "source": [
    "# NASA Mars News"
   ]
  },
  {
   "cell_type": "code",
   "execution_count": null,
   "id": "4774219c",
   "metadata": {},
   "outputs": [],
   "source": [
    "# URL of page to be scraped\n",
    "url = 'https://mars.nasa.gov/news/'\n",
    "\n",
    "# Retrieve page with the requests module\n",
    "response = requests.get(url)\n",
    "# Create BeautifulSoup object; parse with 'html.parser'\n",
    "soup = BeautifulSoup(response.text, 'html.parser')"
   ]
  },
  {
   "cell_type": "code",
   "execution_count": null,
   "id": "e5d32bbc",
   "metadata": {},
   "outputs": [],
   "source": [
    "print(soup.prettify())"
   ]
  },
  {
   "cell_type": "code",
   "execution_count": null,
   "id": "56943600",
   "metadata": {},
   "outputs": [],
   "source": [
    "news_title = soup.find('div', class_='content_title').get_text()\n",
    "news_title"
   ]
  },
  {
   "cell_type": "code",
   "execution_count": null,
   "id": "4927c56d",
   "metadata": {},
   "outputs": [],
   "source": [
    "news_title = news_title.replace('\\n', '')"
   ]
  },
  {
   "cell_type": "code",
   "execution_count": null,
   "id": "52298a4a",
   "metadata": {},
   "outputs": [],
   "source": [
    "news_article =  soup.find('div', class_='rollover_description_inner').get_text()\n",
    "news_article"
   ]
  },
  {
   "cell_type": "code",
   "execution_count": null,
   "id": "d706663f",
   "metadata": {},
   "outputs": [],
   "source": [
    "news_article = news_article.replace('\\n', '')"
   ]
  },
  {
   "cell_type": "code",
   "execution_count": null,
   "id": "1ce0468f",
   "metadata": {},
   "outputs": [],
   "source": [
    "print(news_title)\n",
    "print(news_article)"
   ]
  },
  {
   "cell_type": "markdown",
   "id": "f67f273d",
   "metadata": {},
   "source": [
    "# JPL Mars Space Images"
   ]
  },
  {
   "cell_type": "code",
   "execution_count": null,
   "id": "dc504110",
   "metadata": {},
   "outputs": [],
   "source": [
    "executable_path = {'executable_path': ChromeDriverManager().install()}\n",
    "browser = Browser('chrome', **executable_path, headless=False)"
   ]
  },
  {
   "cell_type": "code",
   "execution_count": null,
   "id": "62089ccf",
   "metadata": {},
   "outputs": [],
   "source": [
    "url = 'https://spaceimages-mars.com/'\n",
    "browser.visit(url)"
   ]
  },
  {
   "cell_type": "code",
   "execution_count": null,
   "id": "01204755",
   "metadata": {},
   "outputs": [],
   "source": [
    "html = browser.html\n",
    "# Create BeautifulSoup object; parse with 'html.parser'\n",
    "soup = BeautifulSoup(html, 'html.parser')\n",
    "\n",
    "# Retrieve all elements that contain image\n",
    "for item in soup.find_all('img', class_='headerimage fade-in'):\n",
    "    featuredimage = item['src']\n",
    "    print (featuredimage)\n"
   ]
  },
  {
   "cell_type": "code",
   "execution_count": null,
   "id": "660bbfe5",
   "metadata": {},
   "outputs": [],
   "source": [
    "browser.quit()"
   ]
  },
  {
   "cell_type": "code",
   "execution_count": null,
   "id": "a7d592dc",
   "metadata": {},
   "outputs": [],
   "source": [
    "featuredimage = url + featuredimage\n",
    "print (featuredimage)"
   ]
  },
  {
   "cell_type": "markdown",
   "id": "78b9eeaa",
   "metadata": {},
   "source": [
    "# Mars Facts"
   ]
  },
  {
   "cell_type": "code",
   "execution_count": null,
   "id": "cef2a963",
   "metadata": {},
   "outputs": [],
   "source": [
    "# URL of page to be scraped\n",
    "url = 'https://galaxyfacts-mars.com/'\n",
    "\n",
    "# Retrieve page with the requests module\n",
    "response = requests.get(url)\n",
    "# Create BeautifulSoup object; parse with 'html.parser'\n",
    "marsfactssoup = BeautifulSoup(response.text, 'html.parser')"
   ]
  },
  {
   "cell_type": "code",
   "execution_count": null,
   "id": "e50af312",
   "metadata": {},
   "outputs": [],
   "source": [
    "marsfactssoup"
   ]
  },
  {
   "cell_type": "code",
   "execution_count": null,
   "id": "91d20b62",
   "metadata": {},
   "outputs": [],
   "source": [
    "tables = pd.read_html(url)\n",
    "tables"
   ]
  },
  {
   "cell_type": "code",
   "execution_count": null,
   "id": "b5376d3c",
   "metadata": {},
   "outputs": [],
   "source": [
    "df = tables[0]\n",
    "df.head()"
   ]
  },
  {
   "cell_type": "code",
   "execution_count": null,
   "id": "315d487d",
   "metadata": {},
   "outputs": [],
   "source": [
    "df.columns=['Description', 'Mars', 'Earth']\n",
    "df.set_index('Description', inplace=True)\n",
    "df"
   ]
  },
  {
   "cell_type": "code",
   "execution_count": null,
   "id": "f46ceb62",
   "metadata": {},
   "outputs": [],
   "source": [
    "html_table = df.to_html()\n",
    "html_table"
   ]
  },
  {
   "cell_type": "code",
   "execution_count": null,
   "id": "41f7d162",
   "metadata": {},
   "outputs": [],
   "source": [
    "html_table.replace('\\n', '')"
   ]
  },
  {
   "cell_type": "code",
   "execution_count": null,
   "id": "8c815a69",
   "metadata": {},
   "outputs": [],
   "source": [
    "df.to_html('marsfactstable.html')"
   ]
  },
  {
   "cell_type": "markdown",
   "id": "59455990",
   "metadata": {},
   "source": [
    "# Mars Hemispheres"
   ]
  },
  {
   "cell_type": "code",
   "execution_count": null,
   "id": "4cb4404d",
   "metadata": {},
   "outputs": [],
   "source": [
    "executable_path = {'executable_path': ChromeDriverManager().install()}\n",
    "browser = Browser('chrome', **executable_path, headless=False)"
   ]
  },
  {
   "cell_type": "code",
   "execution_count": null,
   "id": "9830cb0e",
   "metadata": {},
   "outputs": [],
   "source": [
    "url = 'https://marshemispheres.com/'\n",
    "browser.visit(url)"
   ]
  },
  {
   "cell_type": "markdown",
   "id": "36f1822e",
   "metadata": {},
   "source": [
    "# ****Need to fix the urls - it's always clicking the first one"
   ]
  },
  {
   "cell_type": "code",
   "execution_count": null,
   "id": "f64decfe",
   "metadata": {},
   "outputs": [],
   "source": [
    "hemisphere_image_urls = []\n",
    "html = browser.html\n",
    "# Create BeautifulSoup object; parse with 'html.parser'\n",
    "soup = BeautifulSoup(html, 'html.parser')\n",
    "\n",
    "# Retrieve all elements that contain image\n",
    "for item in soup.find_all('img', class_='thumb'):\n",
    "\n",
    "    hemispheres = {}\n",
    "\n",
    "    # get the image name, trim it, and add it to the hemispheres dict     \n",
    "    hemispherename = item['alt']\n",
    "    if hemispherename.endswith(' Enhanced thumbnail'):\n",
    "        hemispheres['title'] = hemispherename[:-(len(' Enhanced thumbnail'))]\n",
    "    \n",
    "    # click into the thumbnail image, get the large image path, and return back to the main url \n",
    "    browser.links.find_by_partial_text('Hemisphere').click()\n",
    "    imagehtml = browser.html \n",
    "    imagepagesoup = BeautifulSoup(imagehtml, 'html.parser')\n",
    "    \n",
    "    hemisphereimage = imagepagesoup.find('li').a.get('href')\n",
    "    \n",
    "    #<img class=\"wide-image\" src=\"images/f5e372a36edfa389625da6d0cc25d905_cerberus_enhanced.tif_full.jpg\">\n",
    "\n",
    "    # use a list of dicts to hold the images and titles.\n",
    "\n",
    "    hemispheres['img_url'] = f'{url}{hemisphereimage}'\n",
    "    hemisphere_image_urls.append(hemispheres)\n",
    "        \n",
    "    browser.back()\n",
    "        \n",
    "print(hemisphere_image_urls)\n",
    "\n",
    "browser.quit()"
   ]
  },
  {
   "cell_type": "code",
   "execution_count": null,
   "id": "0174db25",
   "metadata": {},
   "outputs": [],
   "source": []
  }
 ],
 "metadata": {
  "kernelspec": {
   "display_name": "Python 3",
   "language": "python",
   "name": "python3"
  },
  "language_info": {
   "codemirror_mode": {
    "name": "ipython",
    "version": 3
   },
   "file_extension": ".py",
   "mimetype": "text/x-python",
   "name": "python",
   "nbconvert_exporter": "python",
   "pygments_lexer": "ipython3",
   "version": "3.8.8"
  }
 },
 "nbformat": 4,
 "nbformat_minor": 5
}
